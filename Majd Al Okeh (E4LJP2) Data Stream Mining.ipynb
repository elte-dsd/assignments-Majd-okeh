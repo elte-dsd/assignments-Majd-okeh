{
  "nbformat": 4,
  "nbformat_minor": 0,
  "metadata": {
    "colab": {
      "name": "Streaming project.ipynb",
      "provenance": [],
      "collapsed_sections": [],
      "machine_shape": "hm"
    },
    "kernelspec": {
      "name": "python3",
      "display_name": "Python 3"
    },
    "accelerator": "GPU"
  },
  "cells": [
    {
      "cell_type": "code",
      "metadata": {
        "id": "0rbHS51qasif",
        "colab_type": "code",
        "colab": {
          "base_uri": "https://localhost:8080/",
          "height": 64
        },
        "outputId": "b8310fc7-bd6c-4ec6-d4f5-b6af807527f1"
      },
      "source": [
        "import tensorflow as tf\n",
        "import tensorflow_hub as hub\n",
        "import matplotlib.pyplot as plt\n",
        "import numpy as np\n",
        "import os\n",
        "import pandas as pd\n",
        "import re\n",
        "import seaborn as sns\n",
        "from sklearn.metrics import f1_score, classification_report, accuracy_score\n",
        "from os import listdir\n",
        "from os.path import isfile, join\n"
      ],
      "execution_count": 1,
      "outputs": [
        {
          "output_type": "display_data",
          "data": {
            "text/html": [
              "<p style=\"color: red;\">\n",
              "The default version of TensorFlow in Colab will soon switch to TensorFlow 2.x.<br>\n",
              "We recommend you <a href=\"https://www.tensorflow.org/guide/migrate\" target=\"_blank\">upgrade</a> now \n",
              "or ensure your notebook will continue to use TensorFlow 1.x via the <code>%tensorflow_version 1.x</code> magic:\n",
              "<a href=\"https://colab.research.google.com/notebooks/tensorflow_version.ipynb\" target=\"_blank\">more info</a>.</p>\n"
            ],
            "text/plain": [
              "<IPython.core.display.HTML object>"
            ]
          },
          "metadata": {
            "tags": []
          }
        }
      ]
    },
    {
      "cell_type": "code",
      "metadata": {
        "id": "low-EKUPbR6i",
        "colab_type": "code",
        "outputId": "cb4c2f1f-a661-4e7d-b180-cf72b1ff64e6",
        "colab": {
          "base_uri": "https://localhost:8080/",
          "height": 52
        }
      },
      "source": [
        "model_path = 'https://tfhub.dev/google/universal-sentence-encoder-large/3'\n",
        "\n",
        "embed = hub.Module(model_path, trainable=False)\n",
        "messages = tf.placeholder(dtype=tf.string, shape=[None])\n",
        "session = tf.Session()\n",
        "session.run([tf.global_variables_initializer(), tf.tables_initializer()])\n",
        "output = embed(messages)\n",
        "def embed_sentences(sentences):\n",
        "  vecs = session.run(output, feed_dict={messages: sentences})\n",
        "  return vecs"
      ],
      "execution_count": 2,
      "outputs": [
        {
          "output_type": "stream",
          "text": [
            "INFO:tensorflow:Saver not created because there are no variables in the graph to restore\n"
          ],
          "name": "stdout"
        },
        {
          "output_type": "stream",
          "text": [
            "INFO:tensorflow:Saver not created because there are no variables in the graph to restore\n"
          ],
          "name": "stderr"
        }
      ]
    },
    {
      "cell_type": "code",
      "metadata": {
        "id": "ZMS60pjDcwe7",
        "colab_type": "code",
        "outputId": "c58320c3-4603-4b8d-a662-faf9905abe85",
        "colab": {
          "base_uri": "https://localhost:8080/",
          "height": 141
        }
      },
      "source": [
        "from google.colab import drive\n",
        "drive.mount('/gdrive')\n",
        "%cd /gdrive"
      ],
      "execution_count": 5,
      "outputs": [
        {
          "output_type": "stream",
          "text": [
            "Go to this URL in a browser: https://accounts.google.com/o/oauth2/auth?client_id=947318989803-6bn6qk8qdgf4n4g3pfee6491hc0brc4i.apps.googleusercontent.com&redirect_uri=urn%3aietf%3awg%3aoauth%3a2.0%3aoob&response_type=code&scope=email%20https%3a%2f%2fwww.googleapis.com%2fauth%2fdocs.test%20https%3a%2f%2fwww.googleapis.com%2fauth%2fdrive%20https%3a%2f%2fwww.googleapis.com%2fauth%2fdrive.photos.readonly%20https%3a%2f%2fwww.googleapis.com%2fauth%2fpeopleapi.readonly\n",
            "\n",
            "Enter your authorization code:\n",
            "··········\n",
            "Mounted at /gdrive\n",
            "/gdrive\n"
          ],
          "name": "stdout"
        }
      ]
    },
    {
      "cell_type": "code",
      "metadata": {
        "id": "jIO-B_5ldb5E",
        "colab_type": "code",
        "colab": {}
      },
      "source": [
        "'''read first 20k record of data'''\n",
        "def load_datasets(file_path, fields):\n",
        "    df = pd.read_csv(file_path, usecols=fields)\n",
        "    return df"
      ],
      "execution_count": 0,
      "outputs": []
    },
    {
      "cell_type": "code",
      "metadata": {
        "id": "xzhw6yt0ddzy",
        "colab_type": "code",
        "colab": {}
      },
      "source": [
        "folder = '/gdrive/My Drive/playstore/reviews data/labeled/most relevent reviews/'\n",
        "labeled_files_names = [folder + f for f in listdir(folder) if isfile(join(folder, f))]\n",
        "folder = '/gdrive/My Drive/playstore/reviews data/labeled/old reviews/'\n",
        "labeled_files_names += [folder + f for f in listdir(folder) if isfile(join(folder, f))]\n",
        "\n",
        "folder = '/gdrive/My Drive/playstore/reviews data/unlabeled/'\n",
        "unlabeled_files_names = [folder + f for f in listdir(folder) if isfile(join(folder, f))]"
      ],
      "execution_count": 0,
      "outputs": []
    },
    {
      "cell_type": "code",
      "metadata": {
        "id": "usbi7WEXdn6q",
        "colab_type": "code",
        "colab": {}
      },
      "source": [
        "def get_app(file):\n",
        "  if 'wta' in file:\n",
        "    return 'whatsapp'\n",
        "  elif 'msg' in file:\n",
        "    return 'messenger'\n",
        "  elif 'ins' in file:\n",
        "    return 'instagram'\n",
        "  elif 'fbk' in file:\n",
        "    return 'facebook'\n",
        "  return 'Unknown'"
      ],
      "execution_count": 0,
      "outputs": []
    },
    {
      "cell_type": "code",
      "metadata": {
        "id": "jEDDH09fdpZ6",
        "colab_type": "code",
        "outputId": "b3b81ed7-c706-4382-a977-bcdabdf7a84b",
        "colab": {
          "base_uri": "https://localhost:8080/",
          "height": 332
        }
      },
      "source": [
        "fields = ['text', 'label', 'up_votes']\n",
        "df = pd.DataFrame(columns=fields)\n",
        "for file in labeled_files_names:\n",
        "  df1 = load_datasets(file, fields)\n",
        "  app = get_app(file)\n",
        "  df1['app'] = app\n",
        "  df = df.append(df1, ignore_index=True)    \n",
        "  \n",
        "  \n",
        "\n",
        "df.up_votes = df.up_votes.fillna(0).astype(int)\n",
        "df.label = df.label.fillna(7).astype(int)\n",
        "df = df.sample(frac=1)\n",
        "df['label'] = df['label'].replace([0], 7)\n",
        "df['label'] = df['label'].astype(str)\n",
        "\n",
        "print(len(df))\n",
        "print('apps statistics ', df[df.app=='whatsapp'].label.value_counts())"
      ],
      "execution_count": 9,
      "outputs": [
        {
          "output_type": "stream",
          "text": [
            "/usr/local/lib/python3.6/dist-packages/pandas/core/frame.py:7138: FutureWarning: Sorting because non-concatenation axis is not aligned. A future version\n",
            "of pandas will change to not sort by default.\n",
            "\n",
            "To accept the future behavior, pass 'sort=False'.\n",
            "\n",
            "To retain the current behavior and silence the warning, pass 'sort=True'.\n",
            "\n",
            "  sort=sort,\n"
          ],
          "name": "stderr"
        },
        {
          "output_type": "stream",
          "text": [
            "5480\n",
            "apps statistics  7    3552\n",
            "2     472\n",
            "1     301\n",
            "3      99\n",
            "6      49\n",
            "4       6\n",
            "5       1\n",
            "Name: label, dtype: int64\n"
          ],
          "name": "stdout"
        }
      ]
    },
    {
      "cell_type": "code",
      "metadata": {
        "id": "wRyfOHGhgnXk",
        "colab_type": "code",
        "outputId": "70d61e96-8519-4046-d161-99fbd63462fd",
        "colab": {
          "base_uri": "https://localhost:8080/",
          "height": 52
        }
      },
      "source": [
        "from collections import Counter\n",
        "from sklearn.cluster import KMeans\n",
        "import nltk\n",
        "from nltk.corpus import stopwords\n",
        "import spacy\n",
        "nltk.download('stopwords')\n",
        "nlp = spacy.load('en')"
      ],
      "execution_count": 10,
      "outputs": [
        {
          "output_type": "stream",
          "text": [
            "[nltk_data] Downloading package stopwords to /root/nltk_data...\n",
            "[nltk_data]   Unzipping corpora/stopwords.zip.\n"
          ],
          "name": "stdout"
        }
      ]
    },
    {
      "cell_type": "code",
      "metadata": {
        "id": "ApFEGS9xg9EC",
        "colab_type": "code",
        "outputId": "4368e8ee-ab1c-4570-a98d-8987b9f3eafa",
        "colab": {
          "base_uri": "https://localhost:8080/",
          "height": 139
        }
      },
      "source": [
        "stop = stopwords.words('english')\n",
        "extended_stop = stop + ['facebook', 'app','whatsapp','please', 'app', 'even', 'want', 'like', 'good', 'messenger', 'fix', 'problem', 'can\\'t']\n",
        "app_data = df[df['app']=='whatsapp']\n",
        "category_data = app_data[app_data['label']=='2']\n",
        "category_data['text'] = category_data['text'].apply(lambda x: \" \".join(token.lower_ for token in nlp(x) if (not token.is_stop and not token.is_punct and not token.is_digit and token.lower_ not in extended_stop)) )\n",
        "category_data_text = category_data['text'].tolist()\n",
        "print(len(category_data))"
      ],
      "execution_count": 12,
      "outputs": [
        {
          "output_type": "stream",
          "text": [
            "4480\n"
          ],
          "name": "stdout"
        },
        {
          "output_type": "stream",
          "text": [
            "/usr/local/lib/python3.6/dist-packages/ipykernel_launcher.py:5: SettingWithCopyWarning: \n",
            "A value is trying to be set on a copy of a slice from a DataFrame.\n",
            "Try using .loc[row_indexer,col_indexer] = value instead\n",
            "\n",
            "See the caveats in the documentation: http://pandas.pydata.org/pandas-docs/stable/user_guide/indexing.html#returning-a-view-versus-a-copy\n",
            "  \"\"\"\n"
          ],
          "name": "stderr"
        }
      ]
    },
    {
      "cell_type": "code",
      "metadata": {
        "id": "m86M1qogjbWs",
        "colab_type": "code",
        "colab": {}
      },
      "source": [
        "category_vecs = embed_sentences(category_data_text)"
      ],
      "execution_count": 0,
      "outputs": []
    },
    {
      "cell_type": "markdown",
      "metadata": {
        "id": "lmOsg_2u-s-H",
        "colab_type": "text"
      },
      "source": [
        "# One batche clustering"
      ]
    },
    {
      "cell_type": "markdown",
      "metadata": {
        "id": "3aUhWSJ78NtA",
        "colab_type": "text"
      },
      "source": [
        "# Just for Suggestions"
      ]
    },
    {
      "cell_type": "code",
      "metadata": {
        "id": "9qVSOJ1yg4by",
        "colab_type": "code",
        "outputId": "83861e99-d8ce-4a11-809a-7a1d8397bd93",
        "colab": {
          "base_uri": "https://localhost:8080/",
          "height": 121
        }
      },
      "source": [
        "\n",
        "clusters_number = 5\n",
        "kmeans = KMeans(n_clusters=clusters_number, random_state=0).fit(category_vecs)#,sample_weight=category_data['up_votes'].tolist())\n",
        "category_data['cluster'] = pd.Series(kmeans.labels_, index=category_data.index)"
      ],
      "execution_count": 0,
      "outputs": [
        {
          "output_type": "stream",
          "text": [
            "/usr/local/lib/python3.6/dist-packages/ipykernel_launcher.py:4: SettingWithCopyWarning: \n",
            "A value is trying to be set on a copy of a slice from a DataFrame.\n",
            "Try using .loc[row_indexer,col_indexer] = value instead\n",
            "\n",
            "See the caveats in the documentation: http://pandas.pydata.org/pandas-docs/stable/user_guide/indexing.html#returning-a-view-versus-a-copy\n",
            "  after removing the cwd from sys.path.\n"
          ],
          "name": "stderr"
        }
      ]
    },
    {
      "cell_type": "code",
      "metadata": {
        "id": "uS5rr9fshTdO",
        "colab_type": "code",
        "outputId": "7573ccc6-df04-4470-ca83-4043db6c43c4",
        "colab": {
          "base_uri": "https://localhost:8080/",
          "height": 297
        }
      },
      "source": [
        "data = category_data.copy()\n",
        "plt.figure(figsize=(7,4))\n",
        "sns.countplot(data['cluster'].astype('str').sort_values())\n",
        "plt.title(\"cluster\",fontsize=15)\n",
        "plt.show()"
      ],
      "execution_count": 0,
      "outputs": [
        {
          "output_type": "display_data",
          "data": {
            "image/png": "[encoded data removed]",
            "text/plain": [
              "<Figure size 504x288 with 1 Axes>"
            ]
          },
          "metadata": {
            "tags": []
          }
        }
      ]
    },
    {
      "cell_type": "code",
      "metadata": {
        "id": "R1RTJyM8ha-L",
        "colab_type": "code",
        "outputId": "af0faed8-808d-4428-f376-0aca96ca5adb",
        "colab": {
          "base_uri": "https://localhost:8080/",
          "height": 121
        }
      },
      "source": [
        "key_words = {}\n",
        "category_data['text'] = category_data['text'].apply(lambda x: \" \".join([item.lower() for item in x.split() if item.lower() not in extended_stop]))\n",
        "\n",
        "for cluster in range(clusters_number):\n",
        "  key_words[cluster] = Counter(\" \".join(category_data[category_data['cluster']==cluster][\"text\"]).split()).most_common(6)"
      ],
      "execution_count": 0,
      "outputs": [
        {
          "output_type": "stream",
          "text": [
            "/usr/local/lib/python3.6/dist-packages/ipykernel_launcher.py:2: SettingWithCopyWarning: \n",
            "A value is trying to be set on a copy of a slice from a DataFrame.\n",
            "Try using .loc[row_indexer,col_indexer] = value instead\n",
            "\n",
            "See the caveats in the documentation: http://pandas.pydata.org/pandas-docs/stable/user_guide/indexing.html#returning-a-view-versus-a-copy\n",
            "  \n"
          ],
          "name": "stderr"
        }
      ]
    },
    {
      "cell_type": "code",
      "metadata": {
        "colab_type": "code",
        "outputId": "fed40011-20ec-4da3-e512-683014ba7453",
        "id": "_OEraz8iSet0",
        "colab": {
          "base_uri": "https://localhost:8080/",
          "height": 104
        }
      },
      "source": [
        "for cluster, cluster_word in key_words.items():\n",
        "  print(cluster, cluster_word)"
      ],
      "execution_count": 0,
      "outputs": [
        {
          "output_type": "stream",
          "text": [
            "0 [('mode', 21), ('dark', 19), ('feature', 17), ('update', 14), ('option', 13), ('message', 13)]\n",
            "1 [('great', 10), ('people', 9), ('best', 8), ('thanks', 7), ('seen', 6), ('send', 5)]\n",
            "2 [('status', 66), ('people', 66), ('option', 66), ('message', 58), ('feature', 50), ('group', 49)]\n",
            "3 [('group', 83), ('chat', 36), ('option', 31), ('add', 24), ('feature', 22), ('groups', 16)]\n",
            "4 [('video', 36), ('time', 31), ('status', 28), ('option', 26), ('update', 26), ('phone', 25)]\n"
          ],
          "name": "stdout"
        }
      ]
    },
    {
      "cell_type": "markdown",
      "metadata": {
        "id": "b_fsH2N08TfB",
        "colab_type": "text"
      },
      "source": [
        "# For all whatsapp reviews"
      ]
    },
    {
      "cell_type": "code",
      "metadata": {
        "id": "1Hl3uS1-8TBt",
        "colab_type": "code",
        "colab": {
          "base_uri": "https://localhost:8080/",
          "height": 401
        },
        "outputId": "4fb64c29-668d-428f-bbc5-18729c227eb2"
      },
      "source": [
        "\n",
        "clusters_number = 20\n",
        "kmeans = KMeans(n_clusters=clusters_number, random_state=0).fit(category_vecs)#,sample_weight=category_data['up_votes'].tolist())\n",
        "category_data['cluster'] = pd.Series(kmeans.labels_, index=category_data.index)\n",
        "data = category_data.copy()\n",
        "plt.figure(figsize=(7,4))\n",
        "sns.countplot(data['cluster'].astype('str').sort_values())\n",
        "plt.title(\"cluster\",fontsize=15)\n",
        "plt.show()"
      ],
      "execution_count": 24,
      "outputs": [
        {
          "output_type": "stream",
          "text": [
            "/usr/local/lib/python3.6/dist-packages/ipykernel_launcher.py:4: SettingWithCopyWarning: \n",
            "A value is trying to be set on a copy of a slice from a DataFrame.\n",
            "Try using .loc[row_indexer,col_indexer] = value instead\n",
            "\n",
            "See the caveats in the documentation: http://pandas.pydata.org/pandas-docs/stable/user_guide/indexing.html#returning-a-view-versus-a-copy\n",
            "  after removing the cwd from sys.path.\n"
          ],
          "name": "stderr"
        },
        {
          "output_type": "display_data",
          "data": {
            "image/png": "[encoded data removed]",
            "text/plain": [
              "<Figure size 504x288 with 1 Axes>"
            ]
          },
          "metadata": {
            "tags": []
          }
        }
      ]
    },
    {
      "cell_type": "code",
      "metadata": {
        "id": "ydlpqwiB8bU9",
        "colab_type": "code",
        "colab": {
          "base_uri": "https://localhost:8080/",
          "height": 364
        },
        "outputId": "49beb006-e999-4bd8-83cd-5adc0e0cb555"
      },
      "source": [
        "key_words = {}\n",
        "\n",
        "for cluster in range(clusters_number):\n",
        "  key_words[cluster] = Counter(\" \".join(category_data[category_data['cluster']==cluster][\"text\"]).split()).most_common(6)\n",
        "\n",
        "for cluster, cluster_word in key_words.items():\n",
        "  print(cluster, cluster_word)"
      ],
      "execution_count": 25,
      "outputs": [
        {
          "output_type": "stream",
          "text": [
            "0 [('nice', 56), ('amazing', 41), ('superb', 28), ('awesome', 23), ('excellent', 18), ('great', 17)]\n",
            "1 [('apps', 55), ('nice', 21), ('best', 20), ('great', 19), ('new', 16), ('application', 14)]\n",
            "2 [('super', 57), ('mst', 8), ('mast', 6), ('nic', 5), ('supper', 5), ('experience', 4)]\n",
            "3 [('phone', 98), ('update', 91), ('video', 72), ('time', 64), ('send', 61), ('status', 61)]\n",
            "4 [('love', 78), ('😍', 36), ('best', 27), ('loved', 26), ('♡', 20), ('😘', 18)]\n",
            "5 [('nice', 275), ('wow', 4), ('gud', 3), ('excellent', 3), ('v', 2), ('👍', 2)]\n",
            "6 [('friends', 70), ('best', 58), ('love', 45), ('family', 41), ('great', 34), ('people', 29)]\n",
            "7 [('video', 88), ('use', 72), ('send', 63), ('phone', 60), ('calls', 55), ('best', 54)]\n",
            "8 []\n",
            "9 [('update', 29), ('application', 18), ('new', 16), ('nice', 16), ('great', 15), ('download', 15)]\n",
            "10 [('ooooooooooooooo', 6), ('awsm', 5), ('great', 5), ('super', 4), ('💞', 4), ('version', 3)]\n",
            "11 [('awesome', 84), ('great', 74), ('excellent', 55), ('ok', 31), ('cool', 31), ('thanks', 15)]\n",
            "12 [('group', 144), ('option', 104), ('status', 91), ('chat', 85), ('people', 84), ('message', 81)]\n",
            "13 [('osm', 12), ('🏢', 12), ('nice', 8), ('best', 6), ('💄', 6), ('love', 5)]\n",
            "14 [('best', 115), ('better', 16), ('bad', 5), ('easy', 3), ('gd-', 2), ('great', 2)]\n",
            "15 [('aap', 35), ('nice', 16), ('love', 8), ('raj', 8), ('kumar', 7), ('best', 6)]\n",
            "16 [('best', 44), ('chat', 27), ('communication', 21), ('nice', 16), ('chatting', 16), ('friends', 16)]\n",
            "17 [('nyc', 15), ('location', 1), ('san', 1), ('ciraaa', 1), ('perfect', 1), ('advance', 1)]\n",
            "18 [('useful', 54), ('use', 47), ('easy', 27), ('helpful', 13), ('usefull', 10), ('application', 8)]\n",
            "19 [('love', 138), ('loved', 22), ('happy', 12), ('great', 7), ('best', 6), ('loving', 5)]\n"
          ],
          "name": "stdout"
        }
      ]
    },
    {
      "cell_type": "markdown",
      "metadata": {
        "id": "bjR-El889sIp",
        "colab_type": "text"
      },
      "source": [
        "# Maintaing Keywords"
      ]
    },
    {
      "cell_type": "code",
      "metadata": {
        "id": "45Hmxdov9xs5",
        "colab_type": "code",
        "colab": {}
      },
      "source": [
        "import operator\n",
        "\n",
        "def maintain_keywords(keywords, new_text, threshold, max_words, index):\n",
        "  # members_count = keywords['members_count']\n",
        "  #decay the weights for old words, to allow new concept from taking place here\n",
        "  keywords.update((x , [y[0]*0.9, y[1]])for x, y in keywords.items() if (index - y[1]) >10)\n",
        "  for word in new_text.split():\n",
        "    if word in keywords:\n",
        "      keywords[word][0]+=1\n",
        "    else:\n",
        "      #first index for the count of the word, the other is the index of the last occurence of the word\n",
        "      keywords[word] = [0,0]\n",
        "      keywords[word][0]=1\n",
        "    keywords[word][1] = index\n",
        "\n",
        "      \n",
        "  if len(keywords) > max_words:\n",
        "    sorted_key_words = sorted(keywords,key=lambda k: keywords[k][0], reverse=True)\n",
        "    # print(keywords)\n",
        "    # print(sorted_key_words)\n",
        "    for i in range(max_words-1,len(keywords)):\n",
        "      keywords.pop(sorted_key_words[i])\n",
        "  return keywords\n",
        "\n",
        "\n",
        "\n",
        "\n"
      ],
      "execution_count": 0,
      "outputs": []
    },
    {
      "cell_type": "markdown",
      "metadata": {
        "id": "QF3r43GYyCHb",
        "colab_type": "text"
      },
      "source": [
        "# Streaming KMeans"
      ]
    },
    {
      "cell_type": "code",
      "metadata": {
        "id": "aCNy6505rhp-",
        "colab_type": "code",
        "colab": {}
      },
      "source": [
        "def update_keywords(keywords, data, new_labels, k, index, keywords_size):\n",
        "  new_keywords = keywords.copy()\n",
        "  #initialize the keywords for the first time\n",
        "  if len(keywords) == 0:\n",
        "    for i in range(k):\n",
        "      new_keywords[i] = {}\n",
        "      keywords[i] = {}\n",
        "  for i in range(k):\n",
        "    if new_labels[i] in new_keywords:\n",
        "      new_keywords[new_labels[i]] = {**keywords[i], **new_keywords[new_labels[i]]}  \n",
        "    else: \n",
        "      new_keywords[new_labels[i]] = keywords[i]\n",
        "  for i in range(k):\n",
        "    if i not in new_keywords:\n",
        "      new_keywords[i] = {}\n",
        "  keywords = None\n",
        "\n",
        "  #skip first k elements as they are the old centers\n",
        "  for i, label in enumerate(new_labels[k:]):\n",
        "    new_keywords[label] = maintain_keywords(new_keywords[label], data[i], 0, keywords_size, index)\n",
        "    \n",
        "    index+=1\n",
        "  return new_keywords\n",
        "\n",
        "\n",
        "\n",
        "\n",
        "def get_k_means_weights(old_weights, labels):\n",
        "    weights = []\n",
        "    unique, counts = np.unique(labels, return_counts=True)\n",
        "    for i in unique:\n",
        "        weights.append(counts[i])\n",
        "\n",
        "    '''update with old_weights, by iterating through the first k points which are the old centers'''\n",
        "    for i in range(len(weights)):\n",
        "        weights[labels[i]]+=old_weights[i]\n",
        "\n",
        "    return weights\n",
        "\n",
        "def stream_k_means(stream, data, k, keywords_size, buffer_size = 16):\n",
        "    keywords = {}\n",
        "    index = 0\n",
        "    kmeans = KMeans(n_clusters=k, init='k-means++', max_iter=300, n_init=10, random_state=0).fit(stream[:buffer_size])\n",
        "    centers = kmeans.cluster_centers_\n",
        "    old_weights = [1] * k\n",
        "    weights = get_k_means_weights(old_weights,kmeans.labels_)\n",
        "    for i in range(1, int(len(stream)/buffer_size+1)):\n",
        "        batch = np.append(centers, stream[i*buffer_size: (i+1)* buffer_size], axis=0)\n",
        "        kmeans = KMeans(n_clusters=k, init='k-means++', max_iter=300, n_init=10, random_state=0).fit(batch, sample_weight= weights + [1]* (len(batch) -k))\n",
        "        centers = kmeans.cluster_centers_\n",
        "        weights = get_k_means_weights(weights, kmeans.labels_)\n",
        "        if data!=None:\n",
        "          keywords = update_keywords(keywords, data[i*buffer_size: (i+1)* buffer_size], kmeans.labels_, k, index, keywords_size)\n",
        "          index+=buffer_size\n",
        "\n",
        "    return centers, weights, keywords"
      ],
      "execution_count": 0,
      "outputs": []
    },
    {
      "cell_type": "markdown",
      "metadata": {
        "id": "1xjEKWgLx-pG",
        "colab_type": "text"
      },
      "source": [
        "# LEADER"
      ]
    },
    {
      "cell_type": "code",
      "metadata": {
        "id": "BW-14H-hx-Yr",
        "colab_type": "code",
        "colab": {}
      },
      "source": [
        "\n",
        "\n",
        "def keep_cos(vecs, new_vec, threshold):\n",
        "    max_sim = 0\n",
        "    matching_index = -1\n",
        "    for i, vec in enumerate(vecs):\n",
        "        sim = np.corrcoef(new_vec, vec)[1, 0]\n",
        "        # sim = np.dot(new_vec, vec) / (np.norm(new_vec) * np.norm(vec))\n",
        "        if sim > max_sim:\n",
        "            max_sim = sim\n",
        "            matching_index = i\n",
        "\n",
        "    if max_sim > threshold:\n",
        "        return matching_index , max_sim\n",
        "\n",
        "    return -1, 1\n",
        "\n",
        "def keep_euc(vecs, new_vec, threshold):\n",
        "    max_sim = 9999\n",
        "    matching_index = -1\n",
        "    for i, vec in enumerate(vecs):\n",
        "        sim = np.linalg.norm(new_vec - vec)\n",
        "        if sim < max_sim:\n",
        "            max_sim = sim\n",
        "            matching_index = i\n",
        "    if max_sim < threshold:\n",
        "        return matching_index , max_sim\n",
        "\n",
        "    return -1, 1\n",
        "\n",
        "def leader(stream, data, threshold, method = 'cos'):\n",
        "    keywords = {}\n",
        "    centers = [stream[0]]\n",
        "    for x in stream:\n",
        "        if method =='cos':\n",
        "            matching_index, max_sim = keep_cos(centers, x, threshold=threshold)\n",
        "        else:\n",
        "            matching_index, max_sim = keep_euc(centers, x, threshold=threshold)\n",
        "        if matching_index == -1:\n",
        "            centers.append(np.array(x))\n",
        "\n",
        "    return np.array(centers)\n",
        "\n",
        "def edited_leader(stream, data, threshold, keywords_num, method = 'cos'):\n",
        "    keywords = {}\n",
        "    centers = []\n",
        "    count = []\n",
        "    for i, x in enumerate(stream):\n",
        "        if method == 'cos':\n",
        "            matching_index, max_sim = keep_cos(centers, x, threshold=threshold)\n",
        "        else:\n",
        "            matching_index, max_sim = keep_euc(centers, x, threshold=threshold)\n",
        "        if matching_index == -1:\n",
        "            centers.append(np.array(x))\n",
        "            count.append(1)\n",
        "            if data is not None:\n",
        "              keywords[len(count)-1] = {}\n",
        "              keywords[len(count)-1] = maintain_keywords(keywords[len(count)-1], data[i], 0, keywords_num, i)\n",
        "        else:\n",
        "            old_center = centers[matching_index]\n",
        "            weight = count[matching_index]\n",
        "            if data is not None:\n",
        "              count[matching_index]+=1\n",
        "              new_center = (weight*old_center + x) / (weight+1)\n",
        "              centers[matching_index] = new_center\n",
        "              keywords[matching_index] = maintain_keywords(keywords[matching_index], data[i], 0, keywords_num, i)\n",
        "\n",
        "\n",
        "    return np.array(centers), count, keywords"
      ],
      "execution_count": 0,
      "outputs": []
    },
    {
      "cell_type": "markdown",
      "metadata": {
        "id": "bLDUMGhI-i_h",
        "colab_type": "text"
      },
      "source": [
        "# Simple comparison"
      ]
    },
    {
      "cell_type": "code",
      "metadata": {
        "id": "YNf5l0rbF-5M",
        "colab_type": "code",
        "outputId": "bd979c43-22bf-4617-c84f-0890c3ee8068",
        "colab": {
          "base_uri": "https://localhost:8080/",
          "height": 265
        }
      },
      "source": [
        "from sklearn.datasets.samples_generator import make_blobs\n",
        "X, y = make_blobs(n_samples=300, centers=4, cluster_std=0.60, random_state=0)\n",
        "np.random.shuffle(X)\n",
        "\n",
        "'''get centers'''\n",
        "kmeans = KMeans(n_clusters=4, init='k-means++', max_iter=300, n_init=10, random_state=0).fit(X)\n",
        "centers, weights, keywords = stream_k_means(stream = X ,data = None, k = 4, keywords_size = 0)\n",
        "leader_centers = leader(stream = X,data = None,threshold= 2.5,method= 'euc')\n",
        "edited_leader_centers, weights, keywords = edited_leader(stream = X, data = None, threshold= 2.5, keywords_num=0, method= 'euc')\n",
        "# leader_centers = leader(X, 0.9, 'cos')\n",
        "\n",
        "\n",
        "plt.scatter(X[:, 0], X[:, 1])\n",
        "kmeans_plot = plt.scatter(kmeans.cluster_centers_[:, 0], kmeans.cluster_centers_[:, 1], color='yellow', label = 'kmeans')\n",
        "\n",
        "s_kmeans_plot = plt.scatter(centers[:, 0], centers[:, 1], color='red', label = 'streaming kmeans')\n",
        "leader_plot = plt.scatter(leader_centers[:, 0], leader_centers[:, 1], color='purple', label = 'leader')\n",
        "ed_leader_plot = plt.scatter(edited_leader_centers[:, 0], edited_leader_centers[:, 1], color='black', label = 'edited leader')\n",
        "plt.legend((kmeans_plot, s_kmeans_plot, leader_plot, ed_leader_plot),\n",
        "           ('Kmeans', 'Streaming Kmeans', 'Leader', 'Edited Leader'),\n",
        "           scatterpoints=1,\n",
        "           loc='lower left',\n",
        "           ncol=3,\n",
        "           fontsize=8)\n",
        "plt.show()"
      ],
      "execution_count": 44,
      "outputs": [
        {
          "output_type": "display_data",
          "data": {
            "image/png": "[encoded data removed]",
            "text/plain": [
              "<Figure size 432x288 with 1 Axes>"
            ]
          },
          "metadata": {
            "tags": []
          }
        }
      ]
    },
    {
      "cell_type": "markdown",
      "metadata": {
        "id": "XSSfIJzP-WY0",
        "colab_type": "text"
      },
      "source": [
        "# K-Means key words"
      ]
    },
    {
      "cell_type": "markdown",
      "metadata": {
        "id": "csHi6G0a9mev",
        "colab_type": "text"
      },
      "source": [
        "# Feature suggestion reviews"
      ]
    },
    {
      "cell_type": "code",
      "metadata": {
        "id": "8N8GOYoWrsrJ",
        "colab_type": "code",
        "outputId": "c466d649-979e-41e0-d3e1-ee9057f6a810",
        "colab": {
          "base_uri": "https://localhost:8080/",
          "height": 35
        }
      },
      "source": [
        "clusters_number = 10\n",
        "keywords_size = 10\n",
        "kmeans_centers, weights, kmeans_keywords = stream_k_means(category_vecs, category_data_text, clusters_number, keywords_size, 32)\n",
        "print(weights)"
      ],
      "execution_count": 0,
      "outputs": [
        {
          "output_type": "stream",
          "text": [
            "[22, 565, 9, 4, 2, 2, 1, 13, 3, 1]\n"
          ],
          "name": "stdout"
        }
      ]
    },
    {
      "cell_type": "code",
      "metadata": {
        "id": "CBVqaejFsIy-",
        "colab_type": "code",
        "colab": {}
      },
      "source": [
        "plt.bar(range(len(weights)),weights)"
      ],
      "execution_count": 0,
      "outputs": []
    },
    {
      "cell_type": "code",
      "metadata": {
        "id": "qpTsuMibXL0A",
        "colab_type": "code",
        "colab": {}
      },
      "source": [
        "kmeans_keywords"
      ],
      "execution_count": 0,
      "outputs": []
    },
    {
      "cell_type": "code",
      "metadata": {
        "id": "iJCWkYGeVAR-",
        "colab_type": "code",
        "outputId": "1037baa5-ec0e-4c1d-a7a6-e85ae9fa8c0a",
        "colab": {
          "base_uri": "https://localhost:8080/",
          "height": 191
        }
      },
      "source": [
        "for k, v in kmeans_keywords.items():\n",
        "  sorted_key_words = sorted(v,key=lambda h: v[h][0], reverse=True)[:10]\n",
        "  print(k, sorted_key_words)"
      ],
      "execution_count": 0,
      "outputs": [
        {
          "output_type": "stream",
          "text": [
            "0 ['message', 'phone', 'option', 'add', 'great', 'time', 'update', 'chat', 'u', 'videos']\n",
            "1 ['option', 'message', 'people', 'chat', 'add', 'time', 'group', 'phone', 'notifications']\n",
            "2 ['group', 'option', 'great', 'chat', 'status', 'number', 'update', 'people', 'video']\n",
            "3 ['option', 'chat', 'add', 'group', 'status', 'number', 'great', 'online', 'ringtone']\n",
            "4 ['chat', 'option', 'group', 'message', 'status', 'plz', 'time', 'great', 'people']\n",
            "5 ['group', 'chat', 'people', 'status', 'add', 'option', 'great', 'u', 'online', 'sir']\n",
            "6 ['message', 'phone', 'great', 'time', 'update', 'option', 'add', 'chat', 'whtsaap']\n",
            "7 ['people', 'status', 'time', 'great', 'group', 'chat', 'u', 'update', 'add', 'online']\n",
            "8 ['group', 'people', 'update', 'option', 'status', 'chat', 'powerful', 'looking', 'clients']\n",
            "9 ['people', 'group', 'status', 'add', 'u', 'sir', 'need', '5peole', 'great']\n"
          ],
          "name": "stdout"
        }
      ]
    },
    {
      "cell_type": "markdown",
      "metadata": {
        "id": "Zb9nZlQ89jvD",
        "colab_type": "text"
      },
      "source": [
        "# All whatsapp reviews"
      ]
    },
    {
      "cell_type": "code",
      "metadata": {
        "id": "HEtw4ySk9p4O",
        "colab_type": "code",
        "colab": {
          "base_uri": "https://localhost:8080/",
          "height": 300
        },
        "outputId": "e29f1aa4-ae42-4cdc-e322-a995974d90d8"
      },
      "source": [
        "clusters_number = 10\n",
        "keywords_size = 100\n",
        "kmeans_centers, weights, kmeans_keywords = stream_k_means(category_vecs, category_data_text, clusters_number, keywords_size, 32)\n",
        "print(weights)\n",
        "plt.bar(range(len(weights)),weights)"
      ],
      "execution_count": 32,
      "outputs": [
        {
          "output_type": "stream",
          "text": [
            "[3, 19, 2141, 620, 5, 4, 16, 1262, 1815, 5]\n"
          ],
          "name": "stdout"
        },
        {
          "output_type": "execute_result",
          "data": {
            "text/plain": [
              "<BarContainer object of 10 artists>"
            ]
          },
          "metadata": {
            "tags": []
          },
          "execution_count": 32
        },
        {
          "output_type": "display_data",
          "data": {
            "image/png": "[encoded data removed]",
            "text/plain": [
              "<Figure size 432x288 with 1 Axes>"
            ]
          },
          "metadata": {
            "tags": []
          }
        }
      ]
    },
    {
      "cell_type": "code",
      "metadata": {
        "id": "QVg1p_xZ9tSe",
        "colab_type": "code",
        "colab": {
          "base_uri": "https://localhost:8080/",
          "height": 191
        },
        "outputId": "936cbe7e-8c12-43fe-eb23-146230d5b509"
      },
      "source": [
        "for k, v in kmeans_keywords.items():\n",
        "  sorted_key_words = sorted(v,key=lambda h: v[h][0], reverse=True)[:10]\n",
        "  print(k, sorted_key_words)"
      ],
      "execution_count": 33,
      "outputs": [
        {
          "output_type": "stream",
          "text": [
            "0 ['thank', 'fixing', 'love', 'message', 'working', 'usefull', 'feature', 'description', 'happens', 'voice']\n",
            "1 ['quality', 'people', 'chat', 'usefull', 'calling', 'pls', 'feature', 'update', 'recently', 'profile']\n",
            "2 ['awesome', 'nice', 'fixing', 'group', 'great', 'feature', 'usefull', 'status', 'description', 'happens']\n",
            "3 ['love', 'service', 'usefull', 'great', 'phone', 'message', 'excellent', 'community', 'lots', 'ok']\n",
            "4 ['quality', 'people', 'apps', 'backup', 'chats', 'phone', 'needs', 'number', 'option', 'day']\n",
            "5 ['usefull', 'calling', 'pls', 'nice', 'useful', 'facilities', 'working', 'superb', 'great', 'wats']\n",
            "6 ['apps', 'best', 'way', 'update', 'number', 'admins', 'person', 'day', 'know', 'touch']\n",
            "7 ['admins', 'day', 'great', 'add', 'chat', 'fh', 'chats', 'status', 'remove', 'kick']\n",
            "8 ['quality', 'people', 'status', 'best', 'chats', 'usefull', 'option', 'needs', 'groups', 'easy']\n",
            "9 ['super', 'admins', 'day', 'nice', 'fh', 'add', 'chat', 'apps', 'chats', 'remove']\n"
          ],
          "name": "stdout"
        }
      ]
    },
    {
      "cell_type": "markdown",
      "metadata": {
        "id": "Z9hHtE9V-XqT",
        "colab_type": "text"
      },
      "source": [
        "# Leader keywords"
      ]
    },
    {
      "cell_type": "markdown",
      "metadata": {
        "id": "Mcoz2YIb-FhS",
        "colab_type": "text"
      },
      "source": [
        "# Feature suggestion reviews"
      ]
    },
    {
      "cell_type": "code",
      "metadata": {
        "id": "aTTkZwbtyF76",
        "colab_type": "code",
        "outputId": "c2d7f837-2b61-48a7-f80f-4139ea8b97b3",
        "colab": {
          "base_uri": "https://localhost:8080/",
          "height": 300
        }
      },
      "source": [
        "threshold = 0.6\n",
        "keywords_num = 100\n",
        "leader_centers, count, keywords = edited_leader(category_vecs, category_data_text, threshold, keywords_num, 'cos')\n",
        "print(len(leader_centers))\n",
        "plt.bar(range(len(count)),count)"
      ],
      "execution_count": 0,
      "outputs": [
        {
          "output_type": "stream",
          "text": [
            "102\n"
          ],
          "name": "stdout"
        },
        {
          "output_type": "execute_result",
          "data": {
            "text/plain": [
              "<BarContainer object of 102 artists>"
            ]
          },
          "metadata": {
            "tags": []
          },
          "execution_count": 96
        },
        {
          "output_type": "display_data",
          "data": {
            "image/png": "[encoded data removed]",
            "text/plain": [
              "<Figure size 432x288 with 1 Axes>"
            ]
          },
          "metadata": {
            "tags": []
          }
        }
      ]
    },
    {
      "cell_type": "code",
      "metadata": {
        "id": "PKAKiF_KcNpy",
        "colab_type": "code",
        "outputId": "1c08a13e-65b0-4cd9-81c1-ad80ed291c3e",
        "colab": {
          "base_uri": "https://localhost:8080/",
          "height": 156
        }
      },
      "source": [
        "\n",
        "for k, v in keywords.items():\n",
        "  sorted_key_words = sorted(v,key=lambda h: v[h][0], reverse=True)\n",
        "  if len(sorted_key_words) > 90:\n",
        "    print(k, sorted_key_words[:10])"
      ],
      "execution_count": 0,
      "outputs": [
        {
          "output_type": "stream",
          "text": [
            "0 ['group', 'groups', 'option', 'number', 'status', 'video', 'send', 'people', 'time', 'able']\n",
            "1 ['status', 'video', 'option', 'update', 'feature', 'videos', 'audio', 'add', 'picture', 'share']\n",
            "2 ['message', 'delete', 'deleted', 'option', 'status', 'messages', 'mistake', 'chat', 'edit', 'spam']\n",
            "7 ['chat', 'feature', 'plz', 'add', 'option', 'group', 'people', 'look', 'update', 'online']\n",
            "11 ['message', 'messages', 'sending', 'option', 'status', 'time', 'notifications', 'feature', 'notification', 'update']\n",
            "15 ['group', 'groups', 'add', 'admin', 'members', 'option', 'delete', 'feature', 'admins', 'time']\n",
            "21 ['mode', 'dark', 'night', 'use', 'option', 'daily', 'great', 'feature', 'tone', 'issue']\n",
            "22 ['update', 'sir', 'security', 'need', 'phone', '5peole', 'n', 'send', 'people', 'request']\n"
          ],
          "name": "stdout"
        }
      ]
    },
    {
      "cell_type": "markdown",
      "metadata": {
        "id": "blPJVbE1-Igt",
        "colab_type": "text"
      },
      "source": [
        "# All whatsapp reviews"
      ]
    },
    {
      "cell_type": "code",
      "metadata": {
        "id": "GufcOm0l-LGW",
        "colab_type": "code",
        "colab": {
          "base_uri": "https://localhost:8080/",
          "height": 300
        },
        "outputId": "5bcbb950-3168-4324-99c8-40443dbc0943"
      },
      "source": [
        "threshold = 0.7\n",
        "keywords_num = 100\n",
        "leader_centers, count, keywords = edited_leader(category_vecs, category_data_text, threshold, keywords_num, 'cos')\n",
        "print(len(leader_centers))\n",
        "plt.bar(range(len(count)),count)"
      ],
      "execution_count": 42,
      "outputs": [
        {
          "output_type": "stream",
          "text": [
            "55\n"
          ],
          "name": "stdout"
        },
        {
          "output_type": "execute_result",
          "data": {
            "text/plain": [
              "<BarContainer object of 55 artists>"
            ]
          },
          "metadata": {
            "tags": []
          },
          "execution_count": 42
        },
        {
          "output_type": "display_data",
          "data": {
            "image/png": "[encoded data removed]",
            "text/plain": [
              "<Figure size 432x288 with 1 Axes>"
            ]
          },
          "metadata": {
            "tags": []
          }
        }
      ]
    },
    {
      "cell_type": "code",
      "metadata": {
        "id": "RsuJHgOu_V1I",
        "colab_type": "code",
        "colab": {
          "base_uri": "https://localhost:8080/",
          "height": 468
        },
        "outputId": "eb92b937-bd2b-4ae9-8e4b-9e3058bdf70b"
      },
      "source": [
        "#0.7\n",
        "for k, v in keywords.items():\n",
        "  sorted_key_words = sorted(v,key=lambda h: v[h][0], reverse=True)\n",
        "  if len(sorted_key_words) > 90:\n",
        "    print(k, sorted_key_words[:10])"
      ],
      "execution_count": 41,
      "outputs": [
        {
          "output_type": "stream",
          "text": [
            "3 ['raj', 'patel', 'jeet', 'neha', 'pandey', 'ranjeet', 'prasanth', 'bala', 'shivam', 'jadi']\n",
            "5 ['video', 'status', 'update', 'record', 'section', 'voice', 'videos', 'seconds', 'times', 'media']\n",
            "10 ['best', 'chats', 'way', 'friends', 'group', 'calling', 'phone', 'free', 'videos', 'touch']\n",
            "11 ['feature', 'option', 'message', 'status', 'add', 'chat', 'update', 'disturb', 'calls', 'messages']\n",
            "15 ['sreya', 'kukku', 'amaizing', 'nad', 'akcha', 'veery', 'goods', 'trueoflife', 'anji', 'df']\n",
            "21 ['nice', 'awsm', 'super', 'harshit', 'purohit', 'superrrrrrrrrrrrrrrrb', 'awsme', 'mukhiya', 'mynewapp', 'supar']\n",
            "26 ['message', 'notification', 'update', 'android', 'version', 'new', 'time', 'feature', 'issue', 'alex']\n",
            "35 ['status', 'option', 'people', 'feature', 'privacy', 'picture', 'friends', 'profile', 'suggestion', 'add']\n",
            "37 ['phone', 'calls', 'message', 'notification', 'issue', 'earphones', 'work', 'update', 'working', 'screen']\n",
            "38 ['backup', 'chats', 'send', 'phone', 'able', 'photo', 'photos', 'file', 'status', 'option']\n",
            "55 ['video', 'status', 'sound', 'playing', 'audio', 'nt', 'issue', 'play', 'background', 'videos']\n",
            "60 ['group', 'admin', 'feature', 'messages', 'great', 'members', 'groups', 'post', 'option', 'add']\n",
            "61 ['phone', 'wifi', 'network', 'hear', 'time', 'updates', 'sim', 'data', 'support', 'calls']\n",
            "63 ['video', 'ui', 'picture', 'feature', 'dark', 'material', 'allo', 'apps', 'outdated', 'update']\n",
            "64 ['camera', 'send', 'quality', 'issue', 'photos', 'photo', 'phone', 'pictures', 'status', 'screen']\n",
            "92 ['contacts', 'photos', 'update', 'conversation', 'mirrored', 'pics', 'profile', 'people', 'messages', 'coming']\n",
            "93 ['download', 'version', 'update', 'phone', 'nt', 'tab', 'help', 'issue', 'tried', 'playstore']\n",
            "94 ['number', 'know', 'contacts', 'messages', 'saved', 'help', 'need', 'getting', 'person', 'dp']\n",
            "111 ['group', 'chat', 'groups', 'chats', 'video', 'experience', 'unique', 'person', 'contact', 'thanks']\n",
            "166 ['phone', 'android', 'delete', 'deleted', 'message', 'backup', 'people', 'use', 'restore', 'media']\n",
            "175 ['messages', 'open', 'time', 'message', 'issue', 'receive', 'issues', 'application', 'know', 'happened']\n",
            "176 ['option', 'images', 'save', 'add', 'videos', 'share', 'select', 'status', 'update', 'multiple']\n",
            "248 ['banned', 'number', 'time', 'years', 'nt', 'reply', 'account', 'reason', 'got', 'support']\n",
            "288 ['love', 'send', 'calls', 'time', 'wish', 'video', 'text', 'best', 'long', 'great']\n",
            "323 ['mode', 'night', 'dark', 'option', 'status', 'use', 'phone', 'feature', 'great', 'theme']\n",
            "372 ['chat', 'plz', 'add', 'option', 'feature', 'person', 'status', 'group', 'chatting', 'online']\n"
          ],
          "name": "stdout"
        }
      ]
    },
    {
      "cell_type": "markdown",
      "metadata": {
        "id": "ReA6oEV67_8L",
        "colab_type": "text"
      },
      "source": [
        "# Word Level"
      ]
    },
    {
      "cell_type": "code",
      "metadata": {
        "id": "jpLgMM4Q7_GM",
        "colab_type": "code",
        "colab": {}
      },
      "source": [
        "# 2. download google word2vec pretrained embedding \n",
        "!wget -P /root/input/ -c \"https://s3.amazonaws.com/dl4j-distribution/GoogleNews-vectors-negative300.bin.gz\""
      ],
      "execution_count": 0,
      "outputs": []
    },
    {
      "cell_type": "code",
      "metadata": {
        "id": "eKTOUf2k8MoJ",
        "colab_type": "code",
        "colab": {}
      },
      "source": [
        "!pip install gensim\n",
        "from gensim.models import KeyedVectors\n",
        "EMBEDDING_FILE = '/root/input/GoogleNews-vectors-negative300.bin.gz'\n",
        "word2vec = KeyedVectors.load_word2vec_format(EMBEDDING_FILE, binary=True)"
      ],
      "execution_count": 0,
      "outputs": []
    },
    {
      "cell_type": "code",
      "metadata": {
        "id": "Hv8GAyPe87nu",
        "colab_type": "code",
        "colab": {}
      },
      "source": [
        "word2vec.word_vec(\"test\")[:10]"
      ],
      "execution_count": 0,
      "outputs": []
    },
    {
      "cell_type": "code",
      "metadata": {
        "id": "lUn7xlN3LMXr",
        "colab_type": "code",
        "outputId": "168b9511-17f5-4655-c833-2cc6f1699a0c",
        "colab": {
          "base_uri": "https://localhost:8080/",
          "height": 89
        }
      },
      "source": [
        "words = []\n",
        "words_vecs = []\n",
        "for text in category_data_text:\n",
        "  for word in text.split():\n",
        "    if word in word2vec.wv.vocab:\n",
        "      words.append(word)\n",
        "      words_vecs.append(word2vec.word_vec(word))\n",
        "print(len(words))"
      ],
      "execution_count": 0,
      "outputs": [
        {
          "output_type": "stream",
          "text": [
            "8269\n"
          ],
          "name": "stdout"
        },
        {
          "output_type": "stream",
          "text": [
            "/usr/local/lib/python3.6/dist-packages/ipykernel_launcher.py:5: DeprecationWarning: Call to deprecated `wv` (Attribute will be removed in 4.0.0, use self instead).\n",
            "  \"\"\"\n"
          ],
          "name": "stderr"
        }
      ]
    },
    {
      "cell_type": "code",
      "metadata": {
        "id": "Vqg_16dlNqeM",
        "colab_type": "code",
        "outputId": "255f6f7c-043e-4927-f582-49cfc36414dd",
        "colab": {
          "base_uri": "https://localhost:8080/",
          "height": 300
        }
      },
      "source": [
        "threshold = 0.3\n",
        "keywords_num = 100\n",
        "leader_centers, count, keywords = edited_leader(words_vecs, words, threshold, keywords_num, 'cos')\n",
        "print(len(leader_centers))\n",
        "plt.bar(range(len(count)),count)"
      ],
      "execution_count": 0,
      "outputs": [
        {
          "output_type": "stream",
          "text": [
            "214\n"
          ],
          "name": "stdout"
        },
        {
          "output_type": "execute_result",
          "data": {
            "text/plain": [
              "<BarContainer object of 214 artists>"
            ]
          },
          "metadata": {
            "tags": []
          },
          "execution_count": 77
        },
        {
          "output_type": "display_data",
          "data": {
            "image/png": "[encoded data removed]",
            "text/plain": [
              "<Figure size 432x288 with 1 Axes>"
            ]
          },
          "metadata": {
            "tags": []
          }
        }
      ]
    },
    {
      "cell_type": "code",
      "metadata": {
        "id": "mDypCAgKNxNE",
        "colab_type": "code",
        "outputId": "d6115da3-2055-4860-c945-9fb055d112d8",
        "colab": {
          "base_uri": "https://localhost:8080/",
          "height": 1000
        }
      },
      "source": [
        "for k, v in keywords.items():\n",
        "  sorted_key_words = sorted(v,key=lambda h: v[h][0], reverse=True)[:10]\n",
        "  if len(sorted_key_words) == 10:\n",
        "    print(k, sorted_key_words)"
      ],
      "execution_count": 0,
      "outputs": [
        {
          "output_type": "stream",
          "text": [
            "0 ['option', 'need', 'allow', 'use', 'available', 'useful', 'options', 'easier', 'easy', 'possible']\n",
            "1 ['data', 'files', 'material', 'archive', 'information', 'documents', 'document', 'informations', 'tracking', 'databases']\n",
            "2 ['amazing', 'best', 'love', 'great', 'thing', 'guys', 'hard', 'excellent', 'real', 'difficult']\n",
            "3 ['add', 'feature', 'features', 'include', 'highlight', 'included', 'addition', 'plus', 'contains', 'consisting']\n",
            "4 ['sure', 'know', 'look', 'tell', 'dislike', 'hope', 'happened', 'think', 'thank', 'recommend']\n",
            "5 ['update', 'chat', 'video', 'download', 'online', 'chats', 'chatting', 'web', 'videos', 'updates']\n",
            "7 ['plz', 'wa', 'hi', 'msg', 'ise', 'dev', 'automaticaly', 'r', 'wo', 'thankyou']\n",
            "9 ['photos', 'picture', 'photo', 'pictures', 'viewing', 'camera', 'display', 'screen', 'zoom', 'images']\n",
            "10 ['people', 'participants', 'person', 'politicians', 'individuals', 'viewers', 'peole', 'girls', 'persons', 'residents']\n",
            "14 ['notifications', 'users', 'delete', 'deleted', 'button', 'reinstall', 'user', 'log', 'uploading', 'emoji']\n",
            "17 ['currently', 'recently', 'permanently', 'widely', 'previously', 'wrongly', 'initially', 'temporarily', 'presently', 'furthermore']\n",
            "21 ['multiple', 'different', 'individual', 'related', 'separate', 'actual', 'type', 'specific', 'similar', 'particular']\n",
            "22 ['message', 'messages', 'theme', 'telegram', 'note', 'mail', 'themes', 'signal', 'messengers', 'messge']\n",
            "24 ['backup', 'switch', 'backups', 'transfer', 'incoming', 'introduction', 'exit', 'dual', 'replacement', 'turning']\n",
            "25 ['suggest', 'showing', 'seen', 'saw', 'noticed', 'visible', 'found', 'seeing', 'appear', 'appeared']\n",
            "26 ['notification', 'suggestion', 'application', 'idea', 'suggestions', 'request', 'invitation', 'notice', 'pleas', 'aplication']\n",
            "27 ['instead', 'frequently', 'literally', 'actually', 'simply', 'rest', 'longer', 'constantly', 'mere', 'periodically']\n",
            "28 ['friends', 'friend', 'family', 'hug', 'hugs', 'mates', 'sister', 'hello', 'loved', 'wife']\n",
            "29 ['sending', 'send', 'sent', 'come', 'receive', 'giving', 'delivered', 'sends', 'given', 'prompt']\n",
            "30 ['contacts', 'communication', 'contact', 'conversation', 'interaction', 'direct', 'communicate', 'touch', 'conversations', 'outreach']\n",
            "31 ['change', 'changed', 'changing', 'difference', 'overhaul', 'changes', 'adjustments', 'altered', 'decisions', 'mistake']\n",
            "32 ['mistake', 'fact', 'issue', 'isues', 'matters', 'headache', 'matter', 'concern', 'lack', 'task']\n",
            "33 ['choose', 'select', 'selected', 'selection', 'choices', 'choice', 'decide', 'choosen', 'selecting', 'choosing']\n",
            "35 ['long', 'soon', 'easily', 'quickly', 'far', 'quick', 'rarely', 'smoothly', 'short', 'correctly']\n",
            "36 ['day', 'today', 'year', 'couple', 'night', 'hour', 'hours', 'daily', 'pm', 'week']\n",
            "37 ['took', 'later', 'immediately', 'ago', 'taking', 'late', 'taken', 'earlier', 'finally', 'came']\n",
            "38 ['audio', 'ringtone', 'mute', 'voice', 'tone', 'song', 'recording', 'listen', 'music', 'tune']\n",
            "41 ['annoying', 'silly', 'horrible', 'bored', 'frustrating', 'bad', 'mistaken', 'correct', 'undesirable', 'freaking']\n",
            "42 ['makes', 'allows', 'needs', 'getting', 'making', 'goes', 'continues', 'helps', 'differentiates', 'gives']\n",
            "44 ['cool', 'attractive', 'simple', 'fab', 'friendly', 'smart', 'bold', 'blah', 'plain', \"ain't\"]\n",
            "45 ['sad', 'impressive', 'happy', 'disappointed', 'shocked', 'sincere', 'dissatisfied', 'thrilled', 'disappointing', 'appreciated']\n",
            "47 ['reply', 'comments', 'comment', 'question', 'answers', 'discussion', 'questioner', 'feedback', 'unanswered', 'response']\n",
            "49 ['minutes', 'seconds', 'minute', 'assists', 'finished', 'km', 'distance', 'edge', 'min', 'point']\n",
            "51 ['stop', 'end', 'start', 'beginning', 'complete', 'continue', 'caught', 'completed', 'ends', 'stops']\n",
            "53 ['ability', 'experience', 'dynamic', 'background', 'taste', 'mindset', 'persona', 'character', 'tastes', 'backgrounds']\n",
            "54 ['hide', 'remove', 'hidden', 'undo', 'prevent', 'removing', 'retrieve', 'hiding', 'avoid', 'disturb']\n",
            "55 ['introduce', 'help', 'develop', 'bring', 'restore', 'rename', 'provide', 'enable', 'redo', 'improve']\n",
            "59 ['present', 'join', 'visit', 'cancel', 'organizing', 'planning', 'activities', 'meetings', 'events', 'invite']\n",
            "63 ['time', 'times', 'days', 'years', 'twice', 'moment', 'period', 'half', 'anytime', 'duration']\n",
            "65 ['work', 'create', 'focused', 'developing', 'working', 'putting', 'created', 'moving', 'introduced', 'adopted']\n",
            "67 ['kept', 'remain', 'stay', 'keeping', 'keeps', 'stable', 'tact', 'remains', 'intact', 'remained']\n",
            "68 ['steps', 'seriously', 'action', 'place', 'moves', 'stage', 'stand', 'step', 'act', 'measures']\n",
            "70 ['increase', 'overall', 'higher', 'high', 'additional', 'increment', 'maximum', 'reducing', 'highest', 'improved']\n",
            "71 ['added', 'adding', 'saying', 'adds', 'regretted', 'according', 'highlighted', 'notes', 'suggested', 'mentioned']\n",
            "73 ['example', 'reason', 'source', 'symbol', 'excuse', 'instance', 'tactic', 'purposes', 'motive', 'cause']\n",
            "74 ['save', 'extra', 'consuming', 'saves', 'pay', 'paying', 'worth', 'cost', 'saving', 'spend']\n",
            "82 ['turn', 'lock', 'run', 'unlock', 'revert', 'hold', 'break', 'holding', 'stick', 'rolled']\n",
            "84 ['life', 'live', 'reality', 'millions', 'forever', 'feed', 'living', 'literally', 'unknowingly', 'lives']\n",
            "90 ['phone', 'phones', 'phonebook', 'texting', 'mobile', 'prepaid', 'telephone', 'usage', 'roaming', 'cellular']\n",
            "97 ['limited', 'limitation', 'limit', 'limitations', 'limiting', 'limits', 'ban', 'banned', 'restricting', 'provision']\n",
            "99 ['left', 'right', 'outside', 'heading', 'leave', 'opposite', 'corner', 'packed', 'leaving', 'nearest']\n",
            "101 ['animated', 'custom', 'design', 'animation', 'editing', 'wallpapers', 'visual', 'aesthetic', 'visually', 'customization']\n",
            "103 ['team', 'play', 'match', 'field', 'player', 'football', 'club', 'title', 'beat', 'playing']\n",
            "104 ['members', 'member', 'heads', 'joining', 'official', 'representative', 'join', 'administrator', 'board', 'vice']\n",
            "107 ['powerful', 'big', 'bigger', 'huge', 'rich', 'main', 'biggest', 'major', 'wide', 'richest']\n",
            "109 ['messaging', 'platform', 'device', 'interface', 'software', 'smartphones', 'devices', 'browser', 'apps', 'beta']\n",
            "110 ['especially', 'pretty', 'obviously', 'certainly', 'absolutely', 'similarly', 'unlike', 'totally', 'increasingly', 'clearly']\n",
            "111 ['dark', 'flashing', 'blue', 'light', 'dot', 'blind', 'unseen', 'color', 'colors', 'lighting']\n",
            "120 ['business', 'clients', 'product', 'sales', 'store', 'storage', 'management', 'service', 'customers', 'installation']\n",
            "121 ['privacy', 'security', 'personal', 'private', 'identity', 'stalker', 'legal', 'rights', 'freedom', 'sensitive']\n",
            "124 ['heart', 'mind', 'ring', 'hat', 'cheek', 'kidneys', 'eye', 'hands', 'waists', 'eyes']\n",
            "125 ['notify', 'clear', 'unknown', 'details', 'concerning', 'categorized', 'notified', 'informed', 'detail', 'occur']\n",
            "132 ['stickers', 'flag', 'sticker', 'card', 'tag', 'badge', 'sign', 'license', 'ticket', 'logos']\n",
            "133 ['texts', 'word', 'text', 'font', 'hashtags', 'keywords', 'emoticon', 'highlighter', 'reading', 'expression']\n",
            "142 ['swipe', 'fingerprint', 'fingerprints', 'checking', 'check', 'scanner', 'test', 'monitor', 'duplicate', 'verification']\n",
            "148 ['able', 'going', 'order', 'looking', 'required', 'let', 'decided', 'allowed', 'helping', 'trying']\n"
          ],
          "name": "stdout"
        }
      ]
    },
    {
      "cell_type": "code",
      "metadata": {
        "id": "eMtvq4lbSzqH",
        "colab_type": "code",
        "colab": {}
      },
      "source": [
        ""
      ],
      "execution_count": 0,
      "outputs": []
    }
  ]
}